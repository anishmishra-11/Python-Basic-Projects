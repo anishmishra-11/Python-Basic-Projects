{
 "cells": [
  {
   "cell_type": "markdown",
   "id": "4be19f4b",
   "metadata": {},
   "source": [
    "## Download YouTube Playlist "
   ]
  },
  {
   "cell_type": "code",
   "execution_count": 3,
   "id": "ffea4751",
   "metadata": {},
   "outputs": [
    {
     "name": "stdout",
     "output_type": "stream",
     "text": [
      "Enter the link of playlist\n",
      "https://www.youtube.com/watch?v=WpsBuXX3qF8&list=PL1K8nuzEDP6eTudXPTrIIuNgThNRysuIi\n",
      "Playlist last updated  2020-05-14\n",
      "Total Videos in Playlist - 8\n",
      "Channel Name Aman Dhattarwal\n",
      "Playlist Name Seminars of Aman Dhattarwal\n",
      "Downloading video: https://www.youtube.com/watch?v=WpsBuXX3qF8\n",
      "Link not valid.\n"
     ]
    }
   ],
   "source": [
    "from pytube import YouTube,Playlist\n",
    "try:\n",
    "    #taking input of link of playlist\n",
    "    print(\"Enter the link of playlist\")\n",
    "    url = input()\n",
    "    videos = Playlist(url)\n",
    "    \n",
    "    #Displaying Details of Playlist link\n",
    "    print(\"Playlist last updated \",videos.last_updated)\n",
    "    print(\"Total Videos in Playlist -\",videos.length)\n",
    "    print(\"Channel Name\",videos.owner)\n",
    "    print(\"Playlist Name\",videos.title)\n",
    "    urls = videos.video_urls\n",
    "    \n",
    "    #Downloading the one by one videos of Playlist\n",
    "    for url in urls:\n",
    "        try:\n",
    "            yt = YouTube(url)\n",
    "        \n",
    "        #this will help if there will be a private video in the playlist    \n",
    "        except VideoUnavailable:\n",
    "            print(f'Video {url} is unavaialable, skipping.')\n",
    "        \n",
    "        else:\n",
    "            print(f'Downloading video: {url}')\n",
    "            \n",
    "            #this will download only 360p resolution video\n",
    "            yt.streams.filter(res=\"360p\").first().download()\n",
    "        \n",
    "        #moving from one url to another url\n",
    "        i = i + 1\n",
    "      \n",
    "    print(\"Congrats!!!! All the available videos are downloaded.\")\n",
    "except:\n",
    "    print(\"Link not valid.\")"
   ]
  }
 ],
 "metadata": {
  "kernelspec": {
   "display_name": "Python 3",
   "language": "python",
   "name": "python3"
  },
  "language_info": {
   "codemirror_mode": {
    "name": "ipython",
    "version": 3
   },
   "file_extension": ".py",
   "mimetype": "text/x-python",
   "name": "python",
   "nbconvert_exporter": "python",
   "pygments_lexer": "ipython3",
   "version": "3.8.8"
  }
 },
 "nbformat": 4,
 "nbformat_minor": 5
}
