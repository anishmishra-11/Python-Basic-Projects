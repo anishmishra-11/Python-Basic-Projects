{
 "cells": [
  {
   "cell_type": "markdown",
   "id": "ebc57ce7",
   "metadata": {},
   "source": [
    "## Guess The Number"
   ]
  },
  {
   "cell_type": "code",
   "execution_count": 1,
   "id": "2e49324a",
   "metadata": {},
   "outputs": [
    {
     "name": "stdout",
     "output_type": "stream",
     "text": [
      "Guess any single digit number 7\n",
      "The number is less than  7\n",
      "Guess any single digit number 4\n",
      "The number is less than  4\n",
      "Guess any single digit number 1\n",
      "Hurray!\n",
      "You guessed the number right it is 1\n"
     ]
    }
   ],
   "source": [
    "import random\n",
    "number = random.randint(0,10) #\"This will generate a random integer between 0 to 9.\"\n",
    "for i in range(0,3): #\"This is to give user 3 chances to guess the number\"\n",
    "    user = int(input(\"Guess any single digit number \"))\n",
    "    if user == number :\n",
    "        print(\"Hurray!\")\n",
    "        print(\"You guessed the number right it is\",end=' ')\n",
    "        print(number)\n",
    "        break\n",
    "    if user < number :\n",
    "        print(\"The number is greater than \",user)\n",
    "    else :\n",
    "        print(\"The number is less than \",user)\n",
    "else:\n",
    "    print(\"You guessed the number wrong it is\",end=' ')\n",
    "    print(number)"
   ]
  }
 ],
 "metadata": {
  "kernelspec": {
   "display_name": "Python 3",
   "language": "python",
   "name": "python3"
  },
  "language_info": {
   "codemirror_mode": {
    "name": "ipython",
    "version": 3
   },
   "file_extension": ".py",
   "mimetype": "text/x-python",
   "name": "python",
   "nbconvert_exporter": "python",
   "pygments_lexer": "ipython3",
   "version": "3.8.8"
  }
 },
 "nbformat": 4,
 "nbformat_minor": 5
}
