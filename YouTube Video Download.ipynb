{
 "cells": [
  {
   "cell_type": "markdown",
   "id": "ac2a634f",
   "metadata": {},
   "source": [
    "## Download youtube videos"
   ]
  },
  {
   "cell_type": "code",
   "execution_count": 1,
   "id": "8c806984",
   "metadata": {},
   "outputs": [
    {
     "name": "stdout",
     "output_type": "stream",
     "text": [
      "Enter Your Url of YouTube video https://youtu.be/uwsmkWh0S5Y\n",
      "Name of channel is Netflix\n",
      "Title of Video - Money Heist: Part 5 Vol. 2 | Official Trailer | Netflix\n",
      "Length of video - 1 minutes\n",
      "Enter 1 for video and 2 for audio only\n",
      "1\n",
      "Enter the quality of video you want to download\n",
      "144\n",
      "Downloading video at quality 144\n",
      "Hurray!!! Video Downloaded\n"
     ]
    }
   ],
   "source": [
    "from pytube import YouTube\n",
    "\n",
    "print(\"Enter Your Url of YouTube video\",end= \" \")\n",
    "url = input()\n",
    "\n",
    "try:\n",
    "    video = YouTube(url)\n",
    "    \n",
    "    #Displaying the details of YouTube video\n",
    "    print(\"Name of channel is\", video.author)\n",
    "    print(\"Title of Video -\",video.title)\n",
    "    time = video.length//60\n",
    "    print(\"Length of video -\",time,end= ' minutes')\n",
    "    \n",
    "    #asking for video or audio only\n",
    "    while True :\n",
    "        print(\"\\nEnter 1 for video and 2 for audio only\")\n",
    "        user = int(input())\n",
    "        if user == 1:\n",
    "            #Asking for the quality the use want to download the video\n",
    "            while True :\n",
    "                print(\"Enter the quality of video you want to download\")\n",
    "                resolution = input()\n",
    "                if resolution == \"144\":\n",
    "                    print(\"Downloading video at quality\",resolution)\n",
    "                    break\n",
    "                elif resolution == \"360\":\n",
    "                    print(\"Downloading video at quality\",resolution)\n",
    "                    break\n",
    "                elif resolution == \"720\" :\n",
    "                    print(\"Downloading video at quality\",resolution)\n",
    "                    break\n",
    "                else :\n",
    "                    print(\"Enter correct resolution.\",end= \" \")\n",
    "                    print(\"Correct quality are 144,360,720\")\n",
    "            try:\n",
    "                res = resolution+\"p\"\n",
    "                \n",
    "                #change the output path in download according to your computer otherwise it will throw error\n",
    "                video.streams.filter(res=res,progressive=True).first().download(output_path='A:/Download/')\n",
    "                print(\"Hurray!!! Video Downloaded\")\n",
    "                break\n",
    "                \n",
    "            except KeyError:\n",
    "                #if video not avialable for desired resoultion\n",
    "                print(\"Video not available to download at current resolution i.e.\",resolution)\n",
    "            \n",
    "        elif user == 2:\n",
    "            print(\"we will download the best available audio quality for you.\")\n",
    "            \n",
    "            #change the output path in download according to your computer otherwise it will throw error\n",
    "            video.streams.filter(only_audio=True,abr=\"128kbps\").first().download(output_path='A:/Download/')\n",
    "            #also it is not necessary to pass output path it will use the current working directory\n",
    "            \n",
    "            print(\"Download Completed\")\n",
    "            break\n",
    "        else:\n",
    "            #if user don't entered desired integer for further progression\n",
    "            print(\"Enter 1 and 2 only.\")\n",
    "        \n",
    "except:\n",
    "    print(\"Please enter valid YouTube link\")"
   ]
  }
 ],
 "metadata": {
  "kernelspec": {
   "display_name": "Python 3",
   "language": "python",
   "name": "python3"
  },
  "language_info": {
   "codemirror_mode": {
    "name": "ipython",
    "version": 3
   },
   "file_extension": ".py",
   "mimetype": "text/x-python",
   "name": "python",
   "nbconvert_exporter": "python",
   "pygments_lexer": "ipython3",
   "version": "3.8.8"
  }
 },
 "nbformat": 4,
 "nbformat_minor": 5
}
